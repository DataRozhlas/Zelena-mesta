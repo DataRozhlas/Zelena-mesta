{
 "metadata": {
  "name": "",
  "signature": "sha256:f20ce2c77ed9148f48c829c3488d2cecf3793f4212ccf71d97a612dc8782a1bb"
 },
 "nbformat": 3,
 "nbformat_minor": 0,
 "worksheets": [
  {
   "cells": [
    {
     "cell_type": "code",
     "collapsed": false,
     "input": [
      "import arcpy\n",
      "from arcpy import env"
     ],
     "language": "python",
     "metadata": {},
     "outputs": [],
     "prompt_number": 1
    },
    {
     "cell_type": "code",
     "collapsed": false,
     "input": [
      "env.workspace = r'F:\\DEVEL\\DATA\\zelen-mesta\\data\\zelen_cr.gdb'\n",
      "arcpy.env.overwriteOutput = True"
     ],
     "language": "python",
     "metadata": {},
     "outputs": [],
     "prompt_number": 5
    },
    {
     "cell_type": "code",
     "collapsed": false,
     "input": [
      "#vypis mesta\n",
      "mesta = []\n",
      "field = 'NAZEV'\n",
      "cursor = arcpy.SearchCursor('krajska_mesta_sidla')\n",
      "row = cursor.next()\n",
      "while row:\n",
      "    mesta.append(row.getValue(field))\n",
      "    row = cursor.next()"
     ],
     "language": "python",
     "metadata": {},
     "outputs": [],
     "prompt_number": 6
    },
    {
     "cell_type": "code",
     "collapsed": false,
     "input": [
      "arcpy.Delete_management(\"mesto_lyr\")\n",
      "arcpy.Delete_management(\"zelen_lyr\")"
     ],
     "language": "python",
     "metadata": {},
     "outputs": [
      {
       "metadata": {},
       "output_type": "pyout",
       "prompt_number": 9,
       "text": [
        "<Result 'true'>"
       ]
      }
     ],
     "prompt_number": 9
    },
    {
     "cell_type": "code",
     "collapsed": false,
     "input": [
      "for mesto in mesta:\n",
      "    arcpy.Delete_management(\"mesto_lyr\")\n",
      "    arcpy.Delete_management(\"zelen_lyr\")\n",
      "    #vytvor lyr s mestem\n",
      "    arcpy.MakeFeatureLayer_management(in_features = 'krajska_mesta_sidla', where_clause=\"NAZEV = '\" + mesto + \"'\", out_layer = \"mesto_lyr\")\n",
      "    #selectni podle mesta\n",
      "    arcpy.MakeFeatureLayer_management(in_features = \"zelen_krajska_mesta_sidla\", where_clause=\"(ITEM = 'Green urban areas') OR (ITEM = 'Forests')\", out_layer = \"zelen_lyr\")\n",
      "    arcpy.SelectLayerByLocation_management(\"zelen_lyr\", \"HAVE_THEIR_CENTER_IN\", \"mesto_lyr\", \"\", \"NEW_SELECTION\")\n",
      "    \n",
      "    #spocti hodnotu zelene\n",
      "    \n",
      "    search_cur = arcpy.da.SearchCursor(\"zelen_lyr\",[\"Shape_Area\"])\n",
      "    suma = 0\n",
      "    for r in search_cur:\n",
      "        suma += r[0]\n",
      "        \n",
      "    del search_cur\n",
      "    \n",
      "    #appendni do tabulky\n",
      "    radek_mesto = arcpy.UpdateCursor(dataset=\"krajska_mesta_sidla\", where_clause=\"NAZEV = '\" + mesto + \"'\")\n",
      "    \n",
      "    for row in radek_mesto:\n",
      "        row.setValue(\"green_area\", suma)\n",
      "        radek_mesto.updateRow(row)\n",
      "    \n",
      "    del row\n",
      "    del radek_mesto"
     ],
     "language": "python",
     "metadata": {},
     "outputs": [],
     "prompt_number": 10
    }
   ],
   "metadata": {}
  }
 ]
}